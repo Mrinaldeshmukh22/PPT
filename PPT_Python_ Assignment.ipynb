{
 "cells": [
  {
   "cell_type": "markdown",
   "id": "928ca372",
   "metadata": {},
   "source": [
    "#### PPT Python Assignment"
   ]
  },
  {
   "cell_type": "markdown",
   "id": "f3474072",
   "metadata": {},
   "source": [
    "### 1. Write a Python program to reverse a string without using any built-in string reversal functions."
   ]
  },
  {
   "cell_type": "code",
   "execution_count": 9,
   "id": "9d649105",
   "metadata": {},
   "outputs": [
    {
     "name": "stdout",
     "output_type": "stream",
     "text": [
      "Enter the string:mrinal\n"
     ]
    }
   ],
   "source": [
    "s = input(\"Enter the string:\")\n",
    "def reverse(s):\n",
    "    for i in range(len(s)-1,-1,-1):\n",
    "        print(s[i] ,end=\"\")"
   ]
  },
  {
   "cell_type": "code",
   "execution_count": 10,
   "id": "add728c3",
   "metadata": {},
   "outputs": [
    {
     "name": "stdout",
     "output_type": "stream",
     "text": [
      "lanirm"
     ]
    }
   ],
   "source": [
    "reverse(s)"
   ]
  },
  {
   "cell_type": "code",
   "execution_count": null,
   "id": "8442f544",
   "metadata": {},
   "outputs": [],
   "source": [
    "***********************************************************************************************************************"
   ]
  },
  {
   "cell_type": "markdown",
   "id": "24560ac9",
   "metadata": {},
   "source": [
    "### 2. Implement a function to check if a given string is a palindrome."
   ]
  },
  {
   "cell_type": "code",
   "execution_count": 1,
   "id": "d3d38a2d",
   "metadata": {},
   "outputs": [
    {
     "name": "stdout",
     "output_type": "stream",
     "text": [
      "Enter the string: kanak\n",
      "String is palindrome \n"
     ]
    }
   ],
   "source": [
    "\n",
    "def palindrome_check(s):\n",
    "    if string == string[::-1]:\n",
    "        print(\"String is palindrome \")\n",
    "    else:\n",
    "        print(\"Not palindrome\")\n",
    "        \n",
    "string = input(\"Enter the string: \")\n",
    "palindrome_check(string)\n"
   ]
  },
  {
   "cell_type": "code",
   "execution_count": null,
   "id": "b1a2eb11",
   "metadata": {},
   "outputs": [],
   "source": [
    "***********************************************************************************************************************"
   ]
  },
  {
   "cell_type": "markdown",
   "id": "dc97c9cd",
   "metadata": {},
   "source": [
    "### 3. Write a program to find the largest element in a given list."
   ]
  },
  {
   "cell_type": "code",
   "execution_count": 3,
   "id": "7fadb73f",
   "metadata": {},
   "outputs": [],
   "source": [
    "l  = [1,2,3,4,5,6,3,50,9,6]"
   ]
  },
  {
   "cell_type": "code",
   "execution_count": 4,
   "id": "40c170cc",
   "metadata": {},
   "outputs": [
    {
     "data": {
      "text/plain": [
       "50"
      ]
     },
     "execution_count": 4,
     "metadata": {},
     "output_type": "execute_result"
    }
   ],
   "source": [
    "max(l)"
   ]
  },
  {
   "cell_type": "code",
   "execution_count": 5,
   "id": "84db197e",
   "metadata": {},
   "outputs": [
    {
     "data": {
      "text/plain": [
       "50"
      ]
     },
     "execution_count": 5,
     "metadata": {},
     "output_type": "execute_result"
    }
   ],
   "source": [
    "def largest_element(l):\n",
    "    if not l:\n",
    "        print(\"The list is empty.\")\n",
    "        return None\n",
    "    largest = l[0]\n",
    "    \n",
    "    for i in l:\n",
    "        if i > largest:\n",
    "            largest = i\n",
    "\n",
    "    return largest\n",
    "\n",
    "largest_element(l)"
   ]
  },
  {
   "cell_type": "code",
   "execution_count": null,
   "id": "0aaa6662",
   "metadata": {},
   "outputs": [],
   "source": [
    "***********************************************************************************************************************"
   ]
  },
  {
   "cell_type": "markdown",
   "id": "0e91fed9",
   "metadata": {},
   "source": [
    "### 4. Implement a function to count the occurrence of each element in a list."
   ]
  },
  {
   "cell_type": "code",
   "execution_count": 6,
   "id": "efdd86c9",
   "metadata": {},
   "outputs": [
    {
     "data": {
      "text/plain": [
       "{1: 2, 2: 2, 4: 2, 6: 2, 8: 3, 9: 2}"
      ]
     },
     "execution_count": 6,
     "metadata": {},
     "output_type": "execute_result"
    }
   ],
   "source": [
    "def occurance(l):\n",
    "    count = {}\n",
    "    for i in l:\n",
    "        if i in count:\n",
    "            count[i]+=1\n",
    "        else:\n",
    "            count[i] = 1\n",
    "    return count\n",
    "\n",
    "list = [1,2,4,6,8,9,1,6,8,9,4,2,8]\n",
    "occurance(list)"
   ]
  },
  {
   "cell_type": "code",
   "execution_count": 7,
   "id": "4c24d93b",
   "metadata": {},
   "outputs": [
    {
     "name": "stdout",
     "output_type": "stream",
     "text": [
      "Occurrences: Counter({8: 3, 1: 2, 2: 2, 4: 2, 6: 2, 9: 2})\n"
     ]
    }
   ],
   "source": [
    "# OR\n",
    "\n",
    "from collections import Counter\n",
    "\n",
    "def occurance_count(l):\n",
    "    count = Counter(l)\n",
    "    return count\n",
    "\n",
    "\n",
    "occurrence_dict= occurance_count(list)\n",
    "print(\"Occurrences:\", occurrence_dict)"
   ]
  },
  {
   "cell_type": "code",
   "execution_count": null,
   "id": "2e818f88",
   "metadata": {},
   "outputs": [],
   "source": [
    "***********************************************************************************************************************"
   ]
  },
  {
   "cell_type": "markdown",
   "id": "62f62c93",
   "metadata": {},
   "source": [
    "### 5. Write a Python program to find the second largest number in a list."
   ]
  },
  {
   "cell_type": "code",
   "execution_count": 1,
   "id": "3fa8e550",
   "metadata": {},
   "outputs": [
    {
     "name": "stdout",
     "output_type": "stream",
     "text": [
      "Second largest element from list: 8\n"
     ]
    }
   ],
   "source": [
    "def second_largest(l):\n",
    "    if len(l)<2:\n",
    "        return \"two elements should be in list\"\n",
    "    \n",
    "    # Remove duplicates from the list\n",
    "    unique_list = list(set(l))\n",
    "    \n",
    "    unique_list.sort(reverse=True)\n",
    "    \n",
    "    return unique_list[1]\n",
    "\n",
    "    \n",
    "l1 = [1,2,4,6,8,9,1,6,8,9,4,2,8]\n",
    "second_largest=second_largest(l1)\n",
    "print(\"Second largest element from list:\",second_largest)"
   ]
  },
  {
   "cell_type": "code",
   "execution_count": 18,
   "id": "e372a349",
   "metadata": {},
   "outputs": [
    {
     "name": "stdout",
     "output_type": "stream",
     "text": [
      "The second largest number is: 9\n"
     ]
    }
   ],
   "source": [
    "def find_second_largest(l):\n",
    "    if len(l)<2:\n",
    "        return \"two elements should be in list\"\n",
    "    \n",
    "    largest = l[0]\n",
    "    second_largest = None\n",
    "    \n",
    "    for i in l[1:]:\n",
    "        if i > largest:\n",
    "            second_largest = largest\n",
    "            largest = i\n",
    "            \n",
    "        elif second_largest is None or i > second_largest:\n",
    "            second_largest = i \n",
    "    \n",
    "    if second_largest is None:\n",
    "        return None\n",
    "    \n",
    "    return second_largest\n",
    "        \n",
    "    \n",
    "    \n",
    "my_list = [3, 8, 5, 2, 10, 9, 7]\n",
    "second_largest = find_second_largest(my_list)\n",
    "\n",
    "if second_largest is not None:\n",
    "    print(\"The second largest number is:\", second_largest)\n",
    "else:\n",
    "    print(\"There is no second largest number in the list.\")"
   ]
  },
  {
   "cell_type": "code",
   "execution_count": null,
   "id": "40409877",
   "metadata": {},
   "outputs": [],
   "source": [
    "*****************************************************************************"
   ]
  },
  {
   "cell_type": "markdown",
   "id": "616d7269",
   "metadata": {},
   "source": [
    "### 6. Implement a function to remove duplicate elements from a list."
   ]
  },
  {
   "cell_type": "code",
   "execution_count": 24,
   "id": "ed1fe4fb",
   "metadata": {},
   "outputs": [],
   "source": [
    "l1 = [1,1,2,3,4,7,8,3,2,1,3]\n",
    "\n",
    "def Remove_duplicate(l):\n",
    "    new_list=[]\n",
    "\n",
    "    for i in l1:\n",
    "        if i not in new_list:\n",
    "            new_list.append(i)\n",
    "\n",
    "    return new_list\n"
   ]
  },
  {
   "cell_type": "code",
   "execution_count": 25,
   "id": "ef2702d0",
   "metadata": {},
   "outputs": [
    {
     "data": {
      "text/plain": [
       "[1, 2, 3, 4, 7, 8]"
      ]
     },
     "execution_count": 25,
     "metadata": {},
     "output_type": "execute_result"
    }
   ],
   "source": [
    "Remove_duplicate(l1)"
   ]
  },
  {
   "cell_type": "code",
   "execution_count": 29,
   "id": "4a8bbf8e",
   "metadata": {},
   "outputs": [
    {
     "name": "stdout",
     "output_type": "stream",
     "text": [
      "[1, 2, 3, 4, 7, 8]\n"
     ]
    }
   ],
   "source": [
    "# Or \n",
    "\n",
    "newlist = list(set(l1))\n",
    "print(newlist)"
   ]
  },
  {
   "cell_type": "code",
   "execution_count": null,
   "id": "9df74286",
   "metadata": {},
   "outputs": [],
   "source": [
    "***********************************************************************************************************************"
   ]
  },
  {
   "cell_type": "markdown",
   "id": "6ea0d1c5",
   "metadata": {},
   "source": [
    "### 7. Write a program to calculate the factorial of a given number."
   ]
  },
  {
   "cell_type": "code",
   "execution_count": 30,
   "id": "982e16c0",
   "metadata": {},
   "outputs": [],
   "source": [
    "def factorial(num):\n",
    "    if num == 0 or num ==1:\n",
    "        return 1\n",
    "    else:\n",
    "        return num * factorial(num-1)"
   ]
  },
  {
   "cell_type": "code",
   "execution_count": 32,
   "id": "67c4d32c",
   "metadata": {},
   "outputs": [
    {
     "data": {
      "text/plain": [
       "120"
      ]
     },
     "execution_count": 32,
     "metadata": {},
     "output_type": "execute_result"
    }
   ],
   "source": [
    "factorial(5)"
   ]
  },
  {
   "cell_type": "code",
   "execution_count": 1,
   "id": "fd43aeee",
   "metadata": {},
   "outputs": [
    {
     "name": "stdout",
     "output_type": "stream",
     "text": [
      "Enter a number: 5\n",
      "Factorial of 5 is 120\n"
     ]
    }
   ],
   "source": [
    "def factorial(n):\n",
    "    result = 1\n",
    "    while n > 1:\n",
    "        result *= n\n",
    "        n -= 1\n",
    "    return result\n",
    "\n",
    "number = int(input(\"Enter a number: \"))\n",
    "print(\"Factorial of\", number, \"is\", factorial(number))"
   ]
  },
  {
   "cell_type": "code",
   "execution_count": 37,
   "id": "ce19891c",
   "metadata": {},
   "outputs": [],
   "source": [
    "# or \n",
    "\n",
    "def facto(num):\n",
    "    result = 1\n",
    "    for i in range(2,num+1):\n",
    "        #  starts from 2 because the factorial of 0 and 1 is always 1.\n",
    "        result =  result * i\n",
    "    return result"
   ]
  },
  {
   "cell_type": "code",
   "execution_count": 38,
   "id": "f52b1bb9",
   "metadata": {},
   "outputs": [
    {
     "data": {
      "text/plain": [
       "120"
      ]
     },
     "execution_count": 38,
     "metadata": {},
     "output_type": "execute_result"
    }
   ],
   "source": [
    "facto(5)"
   ]
  },
  {
   "cell_type": "code",
   "execution_count": null,
   "id": "700690d8",
   "metadata": {},
   "outputs": [],
   "source": [
    "***********************************************************************************************************************"
   ]
  },
  {
   "cell_type": "markdown",
   "id": "22370338",
   "metadata": {},
   "source": [
    "### 9. Write a Python program to sort a list of integers in ascending order."
   ]
  },
  {
   "cell_type": "code",
   "execution_count": 27,
   "id": "991c96f8",
   "metadata": {},
   "outputs": [
    {
     "name": "stdout",
     "output_type": "stream",
     "text": [
      "[1, 2, 2, 2.5, 3, 5.6, 6, 9]\n"
     ]
    }
   ],
   "source": [
    "l = [1,2,6,2.5,3,'m',5.6,9,2]\n",
    "\n",
    "new1 = []\n",
    "\n",
    "for i in l:\n",
    "    if type(i)== int or type(i)==float:\n",
    "        new1.append(i)\n",
    "print(sorted(new1,reverse=False)) "
   ]
  },
  {
   "cell_type": "code",
   "execution_count": 22,
   "id": "a2c65c90",
   "metadata": {},
   "outputs": [],
   "source": [
    "***********************************************************************************************************************"
   ]
  },
  {
   "cell_type": "markdown",
   "id": "f2202b2c",
   "metadata": {},
   "source": [
    "### 10. Implement a function to find the sum of all numbers in a list."
   ]
  },
  {
   "cell_type": "code",
   "execution_count": 39,
   "id": "0c4be4bd",
   "metadata": {},
   "outputs": [
    {
     "data": {
      "text/plain": [
       "45"
      ]
     },
     "execution_count": 39,
     "metadata": {},
     "output_type": "execute_result"
    }
   ],
   "source": [
    "l1 = [1,2,3,4,5,6,7,8,9]\n",
    "def list_ele_sum(l):\n",
    "    sum = 0\n",
    "    for i in l1:\n",
    "        sum +=i\n",
    "    return sum\n",
    "\n",
    "list_ele_sum(l1)"
   ]
  },
  {
   "cell_type": "code",
   "execution_count": 40,
   "id": "1fcdf656",
   "metadata": {},
   "outputs": [],
   "source": [
    "# OR\n",
    "\n",
    "l = [1,2,6,2.5,3,'m',5.6,9,2]\n",
    "\n",
    "def sum_ele(l):\n",
    "    new1 = []\n",
    "    sum = 0\n",
    "    for i in l:\n",
    "        if type(i)== int or type(i)==float:\n",
    "            new1.append(i)\n",
    "            sum +=i\n",
    "    return sum"
   ]
  },
  {
   "cell_type": "code",
   "execution_count": 33,
   "id": "a4243d1e",
   "metadata": {},
   "outputs": [
    {
     "data": {
      "text/plain": [
       "31.1"
      ]
     },
     "execution_count": 33,
     "metadata": {},
     "output_type": "execute_result"
    }
   ],
   "source": [
    "sum_ele(l)"
   ]
  },
  {
   "cell_type": "code",
   "execution_count": null,
   "id": "0007b55c",
   "metadata": {},
   "outputs": [],
   "source": [
    "***********************************************************************************************************************"
   ]
  },
  {
   "cell_type": "markdown",
   "id": "ebfff4c1",
   "metadata": {},
   "source": [
    "### 11. Write a program to find the common elements between two lists."
   ]
  },
  {
   "cell_type": "code",
   "execution_count": 45,
   "id": "22e3e54c",
   "metadata": {},
   "outputs": [],
   "source": [
    "l2 = [1,2,3,4,5,6]\n",
    "l3 = [2,8,4,1,1,1,1]\n",
    "\n",
    "common_element = list(filter(lambda x : x in l3,l2 ))"
   ]
  },
  {
   "cell_type": "code",
   "execution_count": 47,
   "id": "f3829a58",
   "metadata": {},
   "outputs": [
    {
     "data": {
      "text/plain": [
       "[1, 2, 4]"
      ]
     },
     "execution_count": 47,
     "metadata": {},
     "output_type": "execute_result"
    }
   ],
   "source": [
    "common_element"
   ]
  },
  {
   "cell_type": "code",
   "execution_count": 51,
   "id": "a0e9528f",
   "metadata": {},
   "outputs": [
    {
     "name": "stdout",
     "output_type": "stream",
     "text": [
      "[1, 2, 4]\n"
     ]
    }
   ],
   "source": [
    "# Or\n",
    "l2 = [1, 2, 3, 4, 5, 6]\n",
    "l3 = [2, 8, 4, 1, 1, 1, 1]\n",
    "\n",
    "common_ele = []\n",
    "for i in l2:\n",
    "    for j in l3:\n",
    "        if i == j:\n",
    "            common_ele.append(i)\n",
    "\n",
    "print(list(set(common_ele)))"
   ]
  },
  {
   "cell_type": "code",
   "execution_count": 61,
   "id": "b558dc09",
   "metadata": {},
   "outputs": [
    {
     "name": "stdout",
     "output_type": "stream",
     "text": [
      "Common elements: [1, 4, 5, 7]\n"
     ]
    }
   ],
   "source": [
    "# OR\n",
    "\n",
    "def find_common_elements(list1, list2):\n",
    "    common_elements = []\n",
    "    for i in list1:\n",
    "        if i in list2:\n",
    "            common_elements.append(i)\n",
    "    return list(set(common_elements))\n",
    "\n",
    "# Example usage:\n",
    "list1 = [1, 2, 3, 4, 5,4,5,7]\n",
    "list2 = [4, 5, 6, 7, 8,1]\n",
    "common_elements = find_common_elements(list1, list2)\n",
    "print(\"Common elements:\", common_elements)"
   ]
  },
  {
   "cell_type": "code",
   "execution_count": null,
   "id": "c5bcdb32",
   "metadata": {},
   "outputs": [],
   "source": [
    "***********************************************************************************************************************"
   ]
  },
  {
   "cell_type": "markdown",
   "id": "34a3c3a3",
   "metadata": {},
   "source": [
    "### 12. Implement a function to check if a given string is an anagram of another string"
   ]
  },
  {
   "cell_type": "code",
   "execution_count": 66,
   "id": "528ee879",
   "metadata": {},
   "outputs": [
    {
     "name": "stdout",
     "output_type": "stream",
     "text": [
      "It is anagram\n"
     ]
    }
   ],
   "source": [
    "from collections import Counter\n",
    "\n",
    "def anagram_check(string,newstring):\n",
    "    if Counter(string)==Counter(newstring):\n",
    "        return \"It is anagram\"\n",
    "    else:\n",
    "        return \"not anagram\"\n",
    "    \n",
    "    \n",
    "string = \"mrinal\"\n",
    "newstring = \"lnairm\"\n",
    "check = anagram_check(string,newstring)\n",
    "print(check)"
   ]
  },
  {
   "cell_type": "code",
   "execution_count": 69,
   "id": "be29d0e5",
   "metadata": {},
   "outputs": [],
   "source": [
    "# OR\n",
    "\n",
    "def is_anagram(str1,str2):\n",
    "    str1 = str1.replace(\" \",\"\").lower()\n",
    "    str2 = str2.replace(\" \",\"\").lower()\n",
    "    \n",
    "    if len(str1)!= len(str2):\n",
    "        return \"Not anagram\"\n",
    "    sort_str1 = sorted(str1)\n",
    "    sort_str2 = sorted(str2)\n",
    "    \n",
    "    if sort_str1==sort_str2:\n",
    "        return \"Anagram\"\n",
    "    \n",
    "    \n",
    "str1 = \"listen\"\n",
    "str2 = \"silent\"\n",
    "result = is_anagram(str1, str2)\n"
   ]
  },
  {
   "cell_type": "code",
   "execution_count": 70,
   "id": "ecc1faf0",
   "metadata": {},
   "outputs": [
    {
     "data": {
      "text/plain": [
       "'Anagram'"
      ]
     },
     "execution_count": 70,
     "metadata": {},
     "output_type": "execute_result"
    }
   ],
   "source": [
    "result"
   ]
  },
  {
   "cell_type": "code",
   "execution_count": null,
   "id": "1c40c272",
   "metadata": {},
   "outputs": [],
   "source": [
    "***********************************************************************************************************************"
   ]
  },
  {
   "cell_type": "markdown",
   "id": "3a6de784",
   "metadata": {},
   "source": [
    "### 13. Write a Python program to generate all permutations of a given string."
   ]
  },
  {
   "cell_type": "code",
   "execution_count": 21,
   "id": "d8c17459",
   "metadata": {},
   "outputs": [
    {
     "data": {
      "text/plain": [
       "['abc', 'acb', 'bac', 'bca', 'cab', 'cba']"
      ]
     },
     "execution_count": 21,
     "metadata": {},
     "output_type": "execute_result"
    }
   ],
   "source": [
    "import itertools\n",
    "\n",
    "def permutation(string):\n",
    "    chara = list(string)\n",
    "    \n",
    "    perms = list(itertools.permutations(chara))\n",
    "    \n",
    "    perm = [''.join(perm) for perm in perms]\n",
    "\n",
    "    return perm\n",
    "\n",
    "string = \"abc\"\n",
    "permutation(string)"
   ]
  },
  {
   "cell_type": "code",
   "execution_count": null,
   "id": "ad73f1b1",
   "metadata": {},
   "outputs": [],
   "source": [
    "***********************************************************************************************************************"
   ]
  },
  {
   "cell_type": "markdown",
   "id": "e8c601dc",
   "metadata": {},
   "source": [
    "### 14. Implement a function to calculate the Fibonacci sequence up to a given number of terms."
   ]
  },
  {
   "cell_type": "code",
   "execution_count": 74,
   "id": "d12d462b",
   "metadata": {},
   "outputs": [],
   "source": [
    "def Fibonacci(Num):\n",
    "    x,y,z = 0,1,0\n",
    "    while z < Num:\n",
    "        print(z)\n",
    "        x = y\n",
    "        y = z\n",
    "        z = x+y"
   ]
  },
  {
   "cell_type": "code",
   "execution_count": 76,
   "id": "8e261010",
   "metadata": {},
   "outputs": [
    {
     "name": "stdout",
     "output_type": "stream",
     "text": [
      "0\n",
      "1\n",
      "1\n",
      "2\n",
      "3\n",
      "5\n",
      "8\n"
     ]
    }
   ],
   "source": [
    "Fibonacci(10)"
   ]
  },
  {
   "cell_type": "code",
   "execution_count": null,
   "id": "56707bea",
   "metadata": {},
   "outputs": [],
   "source": [
    "***********************************************************************************************************************"
   ]
  },
  {
   "cell_type": "markdown",
   "id": "1507bfad",
   "metadata": {},
   "source": [
    "### 15. Write a program to find the median of a list of numbers."
   ]
  },
  {
   "cell_type": "code",
   "execution_count": 22,
   "id": "e781121b",
   "metadata": {},
   "outputs": [
    {
     "name": "stdout",
     "output_type": "stream",
     "text": [
      "The median is: 5\n"
     ]
    }
   ],
   "source": [
    "def find_median(l):\n",
    "    sorted_list = sorted(l)\n",
    "    n = len(sorted_list)\n",
    "    \n",
    "    if n%2 ==0: # Even element in list \n",
    "        median = (sorted_list[n//2-1]+sorted_list[n//2])/2\n",
    "        \n",
    "    else :\n",
    "        median = sorted_list[n//2]\n",
    "        \n",
    "    return median\n",
    "        \n",
    "my_list = [5, 2, 9, 1, 7, 6, 3, 4, 8]\n",
    "median_value = find_median(my_list)\n",
    "print(\"The median is:\", median_value)"
   ]
  },
  {
   "cell_type": "code",
   "execution_count": 129,
   "id": "0eb7f520",
   "metadata": {},
   "outputs": [
    {
     "data": {
      "text/plain": [
       "5.0"
      ]
     },
     "execution_count": 129,
     "metadata": {},
     "output_type": "execute_result"
    }
   ],
   "source": [
    "# or\n",
    "import numpy as np\n",
    "\n",
    "np.median(my_list)"
   ]
  },
  {
   "cell_type": "code",
   "execution_count": null,
   "id": "defda851",
   "metadata": {},
   "outputs": [],
   "source": [
    "***********************************************************************************************************************"
   ]
  },
  {
   "cell_type": "markdown",
   "id": "ced8dcea",
   "metadata": {},
   "source": [
    "### 16. Implement a function to check if a given list is sorted in non-decreasing order."
   ]
  },
  {
   "cell_type": "code",
   "execution_count": 142,
   "id": "c6aa6b35",
   "metadata": {},
   "outputs": [
    {
     "name": "stdout",
     "output_type": "stream",
     "text": [
      "sorted in decreasing order\n"
     ]
    }
   ],
   "source": [
    "def is_nondecreasing(l):\n",
    "    sorted_l = sorted(l,reverse = False)\n",
    "    \n",
    "    if l == sorted_l:\n",
    "        print(\"sorted in non-decreasing order\")\n",
    "    else:\n",
    "        print(\"sorted in decreasing order\")\n",
    "        \n",
    "\n",
    "my_list = [5, 2, 9, 1, 7, 6, 3, 4, 8]\n",
    "my_list1 = [1,2,3,4,5,6,7]\n",
    "is_nondecreasing(my_list)"
   ]
  },
  {
   "cell_type": "code",
   "execution_count": null,
   "id": "533e37af",
   "metadata": {},
   "outputs": [],
   "source": [
    "***********************************************************************************************************************"
   ]
  },
  {
   "cell_type": "markdown",
   "id": "3b24c0e7",
   "metadata": {},
   "source": [
    "### 17. Write a Python program to find the intersection of two lists."
   ]
  },
  {
   "cell_type": "code",
   "execution_count": 35,
   "id": "bbc4cb67",
   "metadata": {},
   "outputs": [
    {
     "data": {
      "text/plain": [
       "[4, 5]"
      ]
     },
     "execution_count": 35,
     "metadata": {},
     "output_type": "execute_result"
    }
   ],
   "source": [
    "def intersection(l1,l2):\n",
    "    result = list(filter(lambda x : x in l1 ,l2))\n",
    "    \n",
    "    return list(set(result))\n",
    "\n",
    "list1 = [1, 2, 3, 4, 5,4]\n",
    "list2 = [4, 5, 6, 7, 8,4]\n",
    "intersection(list1,list2)"
   ]
  },
  {
   "cell_type": "code",
   "execution_count": 37,
   "id": "39267f2f",
   "metadata": {},
   "outputs": [
    {
     "name": "stdout",
     "output_type": "stream",
     "text": [
      "Intersection: [4, 5]\n"
     ]
    }
   ],
   "source": [
    "def find_intersection(list1, list2):\n",
    "    # Convert the lists to sets\n",
    "    set1 = set(list1)\n",
    "    set2 = set(list2)\n",
    "\n",
    "    # Find the intersection of the sets\n",
    "    intersection = set1.intersection(set2)\n",
    "\n",
    "    # Convert the intersection set back to a list\n",
    "    intersection_list = list(intersection)\n",
    "\n",
    "    return intersection_list\n",
    "\n",
    "# Test the function\n",
    "list1 = [1, 2, 3, 4, 5]\n",
    "list2 = [4, 5, 6, 7, 8]\n",
    "result = find_intersection(list1, list2)\n",
    "print(\"Intersection:\", result)\n"
   ]
  },
  {
   "cell_type": "code",
   "execution_count": null,
   "id": "4f5059a6",
   "metadata": {},
   "outputs": [],
   "source": [
    "***********************************************************************************************************************"
   ]
  },
  {
   "cell_type": "markdown",
   "id": "5c12d124",
   "metadata": {},
   "source": [
    "### 19. Write a program to remove all vowels from a given string."
   ]
  },
  {
   "cell_type": "code",
   "execution_count": 158,
   "id": "bbd00b23",
   "metadata": {},
   "outputs": [
    {
     "name": "stdout",
     "output_type": "stream",
     "text": [
      "nrn bnglr"
     ]
    }
   ],
   "source": [
    "s = \"Inueron bangalore\"\n",
    "vowels = [\"a\",\"e\",\"i\",\"o\",\"u\",\"A\",\"E\",\"I\",\"O\",\"U\"]\n",
    "\n",
    "for i in s:\n",
    "    if i not in vowels:\n",
    "        print(i , end=\"\")\n",
    "        "
   ]
  },
  {
   "cell_type": "code",
   "execution_count": null,
   "id": "4dad3100",
   "metadata": {},
   "outputs": [],
   "source": [
    "***********************************************************************************************************************"
   ]
  },
  {
   "cell_type": "markdown",
   "id": "2813f8ba",
   "metadata": {},
   "source": [
    "### 20. Implement a function to reverse the order of words in a given sentence."
   ]
  },
  {
   "cell_type": "code",
   "execution_count": 171,
   "id": "9d00b5eb",
   "metadata": {},
   "outputs": [
    {
     "name": "stdout",
     "output_type": "stream",
     "text": [
      "Reversed sentence: you? are how Hello,\n"
     ]
    }
   ],
   "source": [
    "def reverse_sentence(sentence):\n",
    "    words = sentence.split()\n",
    "    reversed_words = words[::-1]\n",
    "    reversed_sentence = \" \".join(reversed_words)\n",
    "    return reversed_sentence\n",
    "\n",
    "sentence = \"Hello, how are you?\"\n",
    "reversed_sentence = reverse_sentence(sentence)\n",
    "print(\"Reversed sentence:\", reversed_sentence)"
   ]
  },
  {
   "cell_type": "code",
   "execution_count": null,
   "id": "2a38186c",
   "metadata": {},
   "outputs": [],
   "source": [
    "***********************************************************************************************************************"
   ]
  },
  {
   "cell_type": "markdown",
   "id": "97772e05",
   "metadata": {},
   "source": [
    "### 21. Write a Python program to check if two strings are anagrams of each other."
   ]
  },
  {
   "cell_type": "code",
   "execution_count": 173,
   "id": "c08b21d4",
   "metadata": {},
   "outputs": [
    {
     "name": "stdout",
     "output_type": "stream",
     "text": [
      "The strings are anagrams.\n"
     ]
    }
   ],
   "source": [
    "def are_anagrams(str1, str2):\n",
    "    # Remove spaces and convert both strings to lowercase\n",
    "    str1 = str1.replace(\" \", \"\").lower()\n",
    "    str2 = str2.replace(\" \", \"\").lower()\n",
    "\n",
    "    # Check if the lengths of the strings are equal\n",
    "    if len(str1) != len(str2):\n",
    "        return False\n",
    "\n",
    "    # Sort the characters of both strings\n",
    "    sorted_str1 = sorted(str1)\n",
    "    sorted_str2 = sorted(str2)\n",
    "\n",
    "    # Check if the sorted strings are equal\n",
    "    if sorted_str1 == sorted_str2:\n",
    "        return True\n",
    "    else:\n",
    "        return False\n",
    "\n",
    "# Example usage\n",
    "string1 = \"listen\"\n",
    "string2 = \"silent\"\n",
    "if are_anagrams(string1, string2):\n",
    "    print(\"The strings are anagrams.\")\n",
    "else:\n",
    "    print(\"The strings are not anagrams.\")\n"
   ]
  },
  {
   "cell_type": "code",
   "execution_count": null,
   "id": "d9c2cae0",
   "metadata": {},
   "outputs": [],
   "source": [
    "***********************************************************************************************************************"
   ]
  },
  {
   "cell_type": "markdown",
   "id": "c02b31eb",
   "metadata": {},
   "source": [
    "### 22. Implement a function to find the first non-repeating character in a string."
   ]
  },
  {
   "cell_type": "code",
   "execution_count": 7,
   "id": "90752a4e",
   "metadata": {},
   "outputs": [
    {
     "name": "stdout",
     "output_type": "stream",
     "text": [
      "first non-repeating character in a string is  c\n"
     ]
    }
   ],
   "source": [
    "def Non_repeating_chara(string):\n",
    "    chara_str = {}\n",
    "    \n",
    "    for i in string:\n",
    "        if i in chara_str:\n",
    "            chara_str[i] += 1\n",
    "        else:\n",
    "            chara_str[i] = 1\n",
    "            \n",
    "    for i in string:\n",
    "        if chara_str[i]==1:\n",
    "            return i\n",
    "            \n",
    "input_string = \"abacabad\"\n",
    "result = Non_repeating_chara(input_string)\n",
    "print(\"first non-repeating character in a string is \",result)"
   ]
  },
  {
   "cell_type": "code",
   "execution_count": null,
   "id": "95958209",
   "metadata": {},
   "outputs": [],
   "source": [
    "***********************************************************************************************************************"
   ]
  },
  {
   "cell_type": "markdown",
   "id": "8d2e2f7f",
   "metadata": {},
   "source": [
    "### 24. Implement a function to check if a given number is a power of two."
   ]
  },
  {
   "cell_type": "code",
   "execution_count": 14,
   "id": "56aecb69",
   "metadata": {},
   "outputs": [
    {
     "name": "stdout",
     "output_type": "stream",
     "text": [
      "The number is not a power of two.\n"
     ]
    }
   ],
   "source": [
    "def is_power_of_two(num):\n",
    "    if num <= 0:\n",
    "        return False\n",
    "\n",
    "    while num > 1:\n",
    "        if num % 2 != 0:\n",
    "            return False\n",
    "        num = num // 2\n",
    "        #print(num)\n",
    "\n",
    "    return True\n",
    "\n",
    "\n",
    "# Example usage\n",
    "number = 10\n",
    "if is_power_of_two(number):\n",
    "    print(\"The number is a power of two.\")\n",
    "else:\n",
    "    print(\"The number is not a power of two.\")\n"
   ]
  },
  {
   "cell_type": "code",
   "execution_count": null,
   "id": "81f44889",
   "metadata": {},
   "outputs": [],
   "source": [
    "***********************************************************************************************************************"
   ]
  },
  {
   "cell_type": "markdown",
   "id": "5a6d56ac",
   "metadata": {},
   "source": [
    "### 25. Write a Python program to merge two sorted lists into a single sorted list."
   ]
  },
  {
   "cell_type": "code",
   "execution_count": 31,
   "id": "f6f40ce8",
   "metadata": {},
   "outputs": [
    {
     "name": "stdout",
     "output_type": "stream",
     "text": [
      "Merged list: [1, 2, 3, 4, 5, 6, 7, 8]\n"
     ]
    }
   ],
   "source": [
    "def merge_sorted_lists(list1, list2):\n",
    "    merged_list = []\n",
    "    i = j = 0\n",
    "    \n",
    "    # Compare elements from both lists and add the smaller element to the merged list\n",
    "    while i < len(list1) and j < len(list2):\n",
    "        if list1[i] <= list2[j]:\n",
    "            merged_list.append(list1[i])\n",
    "            i += 1\n",
    "        else:\n",
    "            merged_list.append(list2[j])\n",
    "            j += 1\n",
    "    \n",
    "    # Add remaining elements from list1, if any\n",
    "    while i < len(list1):\n",
    "        merged_list.append(list1[i])\n",
    "        i += 1\n",
    "    \n",
    "    # Add remaining elements from list2, if any\n",
    "    while j < len(list2):\n",
    "        merged_list.append(list2[j])\n",
    "        j += 1\n",
    "    \n",
    "    return merged_list\n",
    "\n",
    "# Test the function\n",
    "list1 = [1, 3, 5, 7]\n",
    "list2 = [2, 4, 6, 8]\n",
    "merged_list = merge_sorted_lists(list1, list2)\n",
    "print(\"Merged list:\", merged_list)\n"
   ]
  },
  {
   "cell_type": "code",
   "execution_count": null,
   "id": "43c5ebad",
   "metadata": {},
   "outputs": [],
   "source": [
    "***********************************************************************************************************************"
   ]
  },
  {
   "cell_type": "markdown",
   "id": "96a1e7c1",
   "metadata": {},
   "source": [
    "### 26. Implement a function to find the mode of a list of numbers."
   ]
  },
  {
   "cell_type": "code",
   "execution_count": 35,
   "id": "b156dce1",
   "metadata": {},
   "outputs": [
    {
     "name": "stdout",
     "output_type": "stream",
     "text": [
      "Mode(s): [2]\n"
     ]
    }
   ],
   "source": [
    "from collections import Counter\n",
    "\n",
    "def find_mode(numbers):\n",
    "    # Count the occurrences of each number\n",
    "    counter = Counter(numbers)\n",
    "    \n",
    "    # Find the number(s) with the maximum count\n",
    "    max_count = max(counter.values())\n",
    "    mode = [number for number, count in counter.items() if count == max_count]\n",
    "    \n",
    "    return mode\n",
    "\n",
    "# Test the function\n",
    "number_list = [1, 2, 3, 2, 4, 3, 2, 5, 4, 2, 6, 4, 7, 2]\n",
    "mode_list = find_mode(number_list)\n",
    "print(\"Mode(s):\", mode_list)"
   ]
  },
  {
   "cell_type": "code",
   "execution_count": null,
   "id": "b09ba0cf",
   "metadata": {},
   "outputs": [],
   "source": [
    "***********************************************************************************************************************"
   ]
  },
  {
   "cell_type": "markdown",
   "id": "493f7fc6",
   "metadata": {},
   "source": [
    "### 28. Implement a function to calculate the square root of a given number."
   ]
  },
  {
   "cell_type": "code",
   "execution_count": 41,
   "id": "5ad7ae18",
   "metadata": {},
   "outputs": [
    {
     "name": "stdout",
     "output_type": "stream",
     "text": [
      "Enter a number: 36\n",
      "Square root: 6.0\n"
     ]
    }
   ],
   "source": [
    "def square_root(number):\n",
    "    if number < 0:\n",
    "        return \"Square root is not defined for negative numbers.\"\n",
    "    else:\n",
    "        return number ** 0.5\n",
    "\n",
    "\n",
    "input_number = float(input(\"Enter a number: \"))\n",
    "result = square_root(input_number)\n",
    "print(\"Square root:\", result)\n"
   ]
  },
  {
   "cell_type": "code",
   "execution_count": null,
   "id": "137a3716",
   "metadata": {},
   "outputs": [],
   "source": [
    "***********************************************************************************************************************"
   ]
  },
  {
   "cell_type": "markdown",
   "id": "224a47a2",
   "metadata": {},
   "source": [
    "### 29. Write a Python program to check if a given string is a valid palindrome ignoring non-alphanumeric characters."
   ]
  },
  {
   "cell_type": "code",
   "execution_count": 30,
   "id": "aa8d706b",
   "metadata": {},
   "outputs": [
    {
     "name": "stdout",
     "output_type": "stream",
     "text": [
      "Enter a string: kanak\n",
      "The string is a valid palindrome.\n"
     ]
    }
   ],
   "source": [
    "def is_valid_palindrome(string):\n",
    "    # Remove non-alphanumeric characters from the string\n",
    "    alphanumeric_string = ''.join(char.lower() for char in string if char.isalnum())\n",
    "    \n",
    "    # Check if the alphanumeric string is equal to its reverse\n",
    "    return alphanumeric_string == alphanumeric_string[::-1]\n",
    "\n",
    "# Test the function\n",
    "input_string = input(\"Enter a string: \")\n",
    "if is_valid_palindrome(input_string):\n",
    "    print(\"The string is a valid palindrome.\")\n",
    "else:\n",
    "    print(\"The string is not a valid palindrome.\")\n"
   ]
  },
  {
   "cell_type": "code",
   "execution_count": null,
   "id": "88915f83",
   "metadata": {},
   "outputs": [],
   "source": [
    "***********************************************************************************************************************"
   ]
  },
  {
   "cell_type": "markdown",
   "id": "b31cfdf6",
   "metadata": {},
   "source": [
    "### 31. Write a program to find the sum of all even numbers in a list"
   ]
  },
  {
   "cell_type": "code",
   "execution_count": 33,
   "id": "cba2f7c6",
   "metadata": {},
   "outputs": [
    {
     "name": "stdout",
     "output_type": "stream",
     "text": [
      "Sum of the even Number is: 32\n"
     ]
    }
   ],
   "source": [
    "def sum_even(l):\n",
    "    even_list = []\n",
    "    for i in l:\n",
    "        if i%2==0:\n",
    "            even_list.append(i)\n",
    "    return sum(even_list)\n",
    "\n",
    "l = [1,2,3,4,5,6,7,9,9,10,10]\n",
    "sum_list = sum_even(l)\n",
    "print(\"Sum of the even Number is:\", (sum_list))"
   ]
  },
  {
   "cell_type": "code",
   "execution_count": null,
   "id": "cebbb16b",
   "metadata": {},
   "outputs": [],
   "source": [
    "***********************************************************************************************************************"
   ]
  },
  {
   "cell_type": "markdown",
   "id": "83345d36",
   "metadata": {},
   "source": [
    "### 32. Implement a function to calculate the power of a number using recursion."
   ]
  },
  {
   "cell_type": "code",
   "execution_count": 12,
   "id": "ad430fdf",
   "metadata": {},
   "outputs": [
    {
     "name": "stdout",
     "output_type": "stream",
     "text": [
      "8\n",
      "1\n",
      "64\n"
     ]
    }
   ],
   "source": [
    "def power(base,exponent):\n",
    "    if exponent ==0:\n",
    "        return 1\n",
    "    else:\n",
    "        return base * power(base,exponent - 1)\n",
    "    \n",
    "print(power(2,3))\n",
    "print(power(4,0))\n",
    "print(power(8,2))\n",
    "\n"
   ]
  },
  {
   "cell_type": "code",
   "execution_count": null,
   "id": "926e8fcc",
   "metadata": {},
   "outputs": [],
   "source": [
    "***********************************************************************************************************************"
   ]
  },
  {
   "cell_type": "markdown",
   "id": "17b6c7d8",
   "metadata": {},
   "source": [
    "### 33. Write a Python program to remove duplicates from a list while preserving the order."
   ]
  },
  {
   "cell_type": "code",
   "execution_count": 20,
   "id": "be0d3fee",
   "metadata": {},
   "outputs": [
    {
     "name": "stdout",
     "output_type": "stream",
     "text": [
      "[1, 3, 2, 5, 6, 4]\n"
     ]
    }
   ],
   "source": [
    "def remove_duplicates(lst):\n",
    "    seen = set()\n",
    "    result = []\n",
    "    for item in lst:\n",
    "        if item not in seen:\n",
    "            seen.add(item)\n",
    "            result.append(item)\n",
    "    return result\n",
    "\n",
    "my_list = [1, 3, 2, 2, 1, 5, 6, 5, 3, 4]\n",
    "print(remove_duplicates(my_list))"
   ]
  },
  {
   "cell_type": "code",
   "execution_count": 26,
   "id": "a6563fc4",
   "metadata": {},
   "outputs": [
    {
     "name": "stdout",
     "output_type": "stream",
     "text": [
      "[1, 3, 2, 5, 6, 4]\n"
     ]
    }
   ],
   "source": [
    "# OR\n",
    "list = [1, 3, 2, 2, 1, 5, 6, 5, 3, 4]\n",
    "l = []\n",
    "\n",
    "for i in list:\n",
    "    if i not in l:\n",
    "        l.append(i)\n",
    "        \n",
    "print(l) "
   ]
  },
  {
   "cell_type": "code",
   "execution_count": null,
   "id": "88047b59",
   "metadata": {},
   "outputs": [],
   "source": [
    "***********************************************************************************************************************"
   ]
  },
  {
   "cell_type": "markdown",
   "id": "8f50aaff",
   "metadata": {},
   "source": [
    "### 36. Implement a function to calculate the product of all elements in a list."
   ]
  },
  {
   "cell_type": "code",
   "execution_count": 39,
   "id": "2c697feb",
   "metadata": {},
   "outputs": [
    {
     "data": {
      "text/plain": [
       "480"
      ]
     },
     "execution_count": 39,
     "metadata": {},
     "output_type": "execute_result"
    }
   ],
   "source": [
    "def product(l):\n",
    "    prod = 1\n",
    "    for i in l:\n",
    "        prod = prod * i \n",
    "    return prod\n",
    "\n",
    "l = [1,2,3,4,2,10]\n",
    "product(l)"
   ]
  },
  {
   "cell_type": "code",
   "execution_count": null,
   "id": "08d9b74f",
   "metadata": {},
   "outputs": [],
   "source": [
    "***********************************************************************************************************************"
   ]
  },
  {
   "cell_type": "markdown",
   "id": "b56bc73e",
   "metadata": {},
   "source": [
    "### 37. Write a Python program to reverse the order of words in a sentence while preserving the word order."
   ]
  },
  {
   "cell_type": "code",
   "execution_count": 64,
   "id": "36f25c27",
   "metadata": {},
   "outputs": [
    {
     "name": "stdout",
     "output_type": "stream",
     "text": [
      "Reversed sentence: you? are how Hello,\n"
     ]
    }
   ],
   "source": [
    "def reverse_words(sentence):\n",
    "    # Split the sentence into a list of words\n",
    "    words = sentence.split()\n",
    "\n",
    "    # Reverse the order of words in the list\n",
    "    reversed_words = words[::-1]\n",
    "\n",
    "    # Join the reversed words back into a sentence\n",
    "    reversed_sentence = \" \".join(reversed_words)\n",
    "\n",
    "    return reversed_sentence\n",
    "\n",
    "# Example usage\n",
    "input_sentence = \"Hello, how are you?\"\n",
    "reversed_sentence = reverse_words(input_sentence)\n",
    "print(\"Reversed sentence:\", reversed_sentence)"
   ]
  },
  {
   "cell_type": "code",
   "execution_count": null,
   "id": "d0e718cc",
   "metadata": {},
   "outputs": [],
   "source": [
    "***********************************************************************************************************************"
   ]
  },
  {
   "cell_type": "code",
   "execution_count": null,
   "id": "f499526a",
   "metadata": {},
   "outputs": [],
   "source": [
    "38. Implement a function to find the missing number in a given list of consecutive numbers."
   ]
  },
  {
   "cell_type": "code",
   "execution_count": null,
   "id": "fc71086e",
   "metadata": {},
   "outputs": [],
   "source": []
  },
  {
   "cell_type": "code",
   "execution_count": null,
   "id": "29f517dc",
   "metadata": {},
   "outputs": [],
   "source": [
    "***********************************************************************************************************************"
   ]
  },
  {
   "cell_type": "markdown",
   "id": "c1b7cb1c",
   "metadata": {},
   "source": [
    "### 39. Write a program to find the sum of digits of a given number."
   ]
  },
  {
   "cell_type": "code",
   "execution_count": 47,
   "id": "85e63d9b",
   "metadata": {},
   "outputs": [
    {
     "name": "stdout",
     "output_type": "stream",
     "text": [
      "Digit sum is: 15\n"
     ]
    }
   ],
   "source": [
    "def sum_of_digit(digit):\n",
    "    num_str = str(digit)\n",
    "    sum = 0\n",
    "    \n",
    "    for i in num_str:\n",
    "        sum = sum + int(i)\n",
    "        \n",
    "    return sum\n",
    "\n",
    "digit = 12345\n",
    "digit_sum = sum_of_digit(digit)\n",
    "print(\"Digit sum is:\",digit_sum)"
   ]
  },
  {
   "cell_type": "code",
   "execution_count": null,
   "id": "733b81cc",
   "metadata": {},
   "outputs": [],
   "source": [
    "***********************************************************************************************************************"
   ]
  },
  {
   "cell_type": "markdown",
   "id": "7988ec10",
   "metadata": {},
   "source": [
    "### 40. Implement a function to check if a given string is a valid palindrome considering case sensitivity."
   ]
  },
  {
   "cell_type": "code",
   "execution_count": 57,
   "id": "9205665d",
   "metadata": {},
   "outputs": [
    {
     "name": "stdout",
     "output_type": "stream",
     "text": [
      "The string is not a valid palindrome.\n"
     ]
    }
   ],
   "source": [
    "def is_valid_palindrome(string):\n",
    "    new_string = string.replace(\" \",\"\")\n",
    "    \n",
    "    if string == new_string[::-1]:\n",
    "        return True\n",
    "    else:\n",
    "        return False\n",
    "    \n",
    "    \n",
    "input_string = \"Level\"\n",
    "\n",
    "if is_valid_palindrome(input_string):\n",
    "    print(\"The string is a valid palindrome.\")\n",
    "else:\n",
    "    print(\"The string is not a valid palindrome.\")"
   ]
  },
  {
   "cell_type": "code",
   "execution_count": 60,
   "id": "38e29195",
   "metadata": {},
   "outputs": [
    {
     "name": "stdout",
     "output_type": "stream",
     "text": [
      "The string is a valid palindrome.\n"
     ]
    }
   ],
   "source": [
    "def is_valid_palindrome(string):\n",
    "    new_string = string.replace(\" \",\"\").lower()\n",
    "    \n",
    "    if string.lower() == new_string[::-1]:\n",
    "        return True\n",
    "    else:\n",
    "        return False\n",
    "    \n",
    "    \n",
    "input_string = \"Level\"\n",
    "\n",
    "if is_valid_palindrome(input_string):\n",
    "    print(\"The string is a valid palindrome.\")\n",
    "else:\n",
    "    print(\"The string is not a valid palindrome.\")"
   ]
  },
  {
   "cell_type": "code",
   "execution_count": null,
   "id": "089e897b",
   "metadata": {},
   "outputs": [],
   "source": [
    "***********************************************************************************************************************"
   ]
  },
  {
   "cell_type": "code",
   "execution_count": null,
   "id": "be92b65e",
   "metadata": {},
   "outputs": [],
   "source": []
  }
 ],
 "metadata": {
  "kernelspec": {
   "display_name": "Python 3 (ipykernel)",
   "language": "python",
   "name": "python3"
  },
  "language_info": {
   "codemirror_mode": {
    "name": "ipython",
    "version": 3
   },
   "file_extension": ".py",
   "mimetype": "text/x-python",
   "name": "python",
   "nbconvert_exporter": "python",
   "pygments_lexer": "ipython3",
   "version": "3.9.13"
  }
 },
 "nbformat": 4,
 "nbformat_minor": 5
}
